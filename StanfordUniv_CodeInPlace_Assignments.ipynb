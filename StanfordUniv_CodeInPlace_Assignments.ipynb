{
 "cells": [
  {
   "cell_type": "markdown",
   "metadata": {},
   "source": [
    "## Running Total\n",
    "\n",
    "Write a program that asks a user to continuously enter numbers \n",
    "and print out the running total, the sum of all the numbers so far. \n",
    "Once you get the program working, \n",
    "see if you can modify it so that the program stops when the user enters a 0."
   ]
  },
  {
   "cell_type": "code",
   "execution_count": null,
   "metadata": {},
   "outputs": [],
   "source": [
    "def main():\n",
    "    total = 0\n",
    "    while True:\n",
    "        value = enter_value()\n",
    "        if value != 0:\n",
    "            total += value\n",
    "            print(\"Running totla is \"+ str(total))\n",
    "        else:\n",
    "            break;\n",
    "\n",
    "def enter_value():\n",
    "    value=int(input(\"Enter a value: \"))\n",
    "    return value\n",
    "\n",
    "if __name__ == '__main__':\n",
    "    main()"
   ]
  },
  {
   "cell_type": "markdown",
   "metadata": {},
   "source": [
    "## FizzBuzz\n",
    "In the game Fizz Buzz, players take turns counting up from one. If a player’s turn lands on a number that’s divisible by 3, she should say fizz instead of the number, and if it lands on a number that’s divisible by 5, she should say buzz instead of the number. If the number is both a multiple of 3 and of 5, she should say fizzbuzz instead of the number. \n",
    "\n",
    "It is an interesting problem in control flow and parameter usage. Write a program asks the user for an integer. The program should count up until and including n, fizzing and buzzing the correct numbers along the way. Once it's done, the program should print how many numbers were fizzed, buzzed, or fizzbuzzed along the way.\n",
    "\n",
    "Here's a sample run of the program (user input is in bold italics):"
   ]
  },
  {
   "cell_type": "code",
   "execution_count": null,
   "metadata": {},
   "outputs": [],
   "source": [
    "\"\"\"\n",
    "Prints the Fizz Buzz sequence up to a given number.\n",
    "\"\"\"\n",
    "\n",
    "def main():\n",
    "    value=put_num()\n",
    "    f=0\n",
    "    b=0\n",
    "    fb=0\n",
    "    for i in range(1, value+1):\n",
    "        if i % 3 == 0 and i % 5==0:\n",
    "            print(\"Fizzbuzz\")\n",
    "            fb += 1\n",
    "        elif i % 5 == 0:\n",
    "            print(\"Buzz\")\n",
    "            b +=1\n",
    "        elif i % 3 == 0 :\n",
    "            print(\"Fizz\")\n",
    "            \n",
    "            f +=1\n",
    "        else:\n",
    "            print(i)\n",
    "    print(\"\")\n",
    "    print(\"Num fizzed: \" + str(f))\n",
    "    print(\"Num buzzed: \" + str(b))\n",
    "    print(\"Num fizzbuzzed: \" + str(fb) )\n",
    "\n",
    "def put_num():\n",
    "    value=int(input( \"Number to count to: \"))\n",
    "    return value\n",
    "\n",
    "if __name__ == '__main__':\n",
    "    main()"
   ]
  }
 ],
 "metadata": {
  "kernelspec": {
   "display_name": "Python 3",
   "language": "python",
   "name": "python3"
  },
  "language_info": {
   "codemirror_mode": {
    "name": "ipython",
    "version": 3
   },
   "file_extension": ".py",
   "mimetype": "text/x-python",
   "name": "python",
   "nbconvert_exporter": "python",
   "pygments_lexer": "ipython3",
   "version": "3.8.5"
  }
 },
 "nbformat": 4,
 "nbformat_minor": 4
}
